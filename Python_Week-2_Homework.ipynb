{
 "cells": [
  {
   "cell_type": "code",
   "execution_count": null,
   "metadata": {},
   "outputs": [],
   "source": [
    "#Basic:\n",
    "#1.Program that takes a list and return a new one without the duplicates\n",
    "\n",
    "def refined_list(a):\n",
    "    b=[]\n",
    "    for x in a:\n",
    "        if x not in b and x!=\",\":\n",
    "            b.append(x) \n",
    "    return b\n",
    "y=(input(\"Enter elements of list \"))\n",
    "print (refined_list(y))\n",
    "    "
   ]
  },
  {
   "cell_type": "code",
   "execution_count": null,
   "metadata": {},
   "outputs": [],
   "source": [
    "#2.Function determine if a number is in an ordered list or not:\n",
    "\n",
    "a=[5,7,9,2,3]\n",
    "a=sorted(a)\n",
    "b=2\n",
    "def check_num(y,c):\n",
    "    for x in y:\n",
    "        if x==c:\n",
    "            return True\n",
    "        else:\n",
    "            return False\n",
    "print(a)\n",
    "print(check_num(a,b))\n"
   ]
  },
  {
   "cell_type": "code",
   "execution_count": null,
   "metadata": {},
   "outputs": [],
   "source": [
    "#3.Let’s say I give you a list saved in a variable: a = [1, 4, 9, 16, 25, 36, 49, 64, 81, 100]. Write one line of Python that takes this list a and makes a new list that has only the even elements of this list in it.\n",
    "\n",
    "a=[1,4,9,16,25,36,49,64,81,100]\n",
    "b=[x for x in a if x%2==0]\n",
    "print(b)"
   ]
  },
  {
   "cell_type": "code",
   "execution_count": null,
   "metadata": {},
   "outputs": [],
   "source": [
    "#Advanced:\n",
    "#1.Guess Game of a random number picked by the function\n",
    "\n",
    "import random\n",
    "y=random.randint(0,200)\n",
    "def guess_game():\n",
    "    x=int(input(\"Guess a number \"))\n",
    "    while True:\n",
    "        if x==y:\n",
    "            return \"Bingo!\" \n",
    "            break\n",
    "        elif abs (x-y)>40:\n",
    "            if x>y:\n",
    "                 x=int(input(\"guess way lower \"))\n",
    "            else:\n",
    "                x=int(input(\"guess way upper \"))\n",
    "        elif abs (x-y)>=4:\n",
    "            if x>y:\n",
    "                x=int(input(\"guess lower \"))\n",
    "            else:\n",
    "                x=int(input(\"guess upper \"))\n",
    "        else: \n",
    "            if x>y:\n",
    "                x=int(input(\"Close! guess a bit lower \"))\n",
    "            else:\n",
    "                x=int(input(\"Close! guess a bit upper \"))\n",
    "        \n",
    "print (guess_game())\n",
    "\n"
   ]
  },
  {
   "cell_type": "code",
   "execution_count": null,
   "metadata": {},
   "outputs": [],
   "source": [
    "#Advanced:\n",
    "#2.Guess Game of user's number in mind\n",
    "\n",
    "import random\n",
    "x = int(input(\"Enter a number: \"))\n",
    "g=random.randint(0,200)\n",
    "low=0\n",
    "high=200\n",
    "while g!=x:\n",
    "    g=(low + high)//2\n",
    "    print (\"The computer guesses \", g)\n",
    "    if g > x:\n",
    "        g = high\n",
    "    elif g < x:\n",
    "        g = low+1\n",
    "print (g, \"is the correct guess! \")\n",
    "\n",
    "\n"
   ]
  },
  {
   "cell_type": "code",
   "execution_count": null,
   "metadata": {},
   "outputs": [],
   "source": [
    "#Advanced:\n",
    "#3.Improve the code by limiting the guesses\n",
    "\n",
    "import random\n",
    "x = int(input(\"Enter a number: \"))\n",
    "g=random.randint(0,200)\n",
    "low=0\n",
    "high=200\n",
    "guesses=0\n",
    "while g!=x and guesses<10:\n",
    "    g=(low + high)//2\n",
    "    print (\"The computer guesses \", g)\n",
    "    if g > x:\n",
    "        g = high\n",
    "    elif g < x:\n",
    "        g = low+1\n",
    "    guesses+=1\n",
    "print (g, \"is not the correct guess. you failed! \")\n",
    "if g==x and guesses<10:\n",
    "    print(g, \"is the correct guess! \")\n",
    "\n"
   ]
  },
  {
   "cell_type": "code",
   "execution_count": null,
   "metadata": {},
   "outputs": [],
   "source": []
  }
 ],
 "metadata": {
  "kernelspec": {
   "display_name": "Python 3",
   "language": "python",
   "name": "python3"
  },
  "language_info": {
   "codemirror_mode": {
    "name": "ipython",
    "version": 3
   },
   "file_extension": ".py",
   "mimetype": "text/x-python",
   "name": "python",
   "nbconvert_exporter": "python",
   "pygments_lexer": "ipython3",
   "version": "3.7.3"
  }
 },
 "nbformat": 4,
 "nbformat_minor": 2
}
